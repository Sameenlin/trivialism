{
 "cells": [
  {
   "cell_type": "code",
   "execution_count": 1,
   "metadata": {},
   "outputs": [
    {
     "output_type": "error",
     "ename": "Error",
     "evalue": "Jupyter cannot be started. Error attempting to locate jupyter: Data Science libraries jupyter and notebook are not installed in interpreter Python 3.7.4 64-bit.",
     "traceback": [
      "Error: Jupyter cannot be started. Error attempting to locate jupyter: Data Science libraries jupyter and notebook are not installed in interpreter Python 3.7.4 64-bit.",
      "at b.startServer (/Users/ronething/.vscode/extensions/ms-python.python-2020.7.96456/out/client/extension.js:48:297517)",
      "at processTicksAndRejections (internal/process/task_queues.js:85:5)",
      "at async b.createServer (/Users/ronething/.vscode/extensions/ms-python.python-2020.7.96456/out/client/extension.js:48:296959)",
      "at async connect (/Users/ronething/.vscode/extensions/ms-python.python-2020.7.96456/out/client/extension.js:48:431724)",
      "at async P.ensureConnectionAndNotebookImpl (/Users/ronething/.vscode/extensions/ms-python.python-2020.7.96456/out/client/extension.js:24:456935)",
      "at async P.ensureConnectionAndNotebook (/Users/ronething/.vscode/extensions/ms-python.python-2020.7.96456/out/client/extension.js:24:456613)",
      "at async P.clearResult (/Users/ronething/.vscode/extensions/ms-python.python-2020.7.96456/out/client/extension.js:24:452496)",
      "at async P.reexecuteCell (/Users/ronething/.vscode/extensions/ms-python.python-2020.7.96456/out/client/extension.js:24:439252)",
      "at async P.reexecuteCells (/Users/ronething/.vscode/extensions/ms-python.python-2020.7.96456/out/client/extension.js:24:435670)"
     ]
    }
   ],
   "source": [
    "#coding=utf-8\n",
    "import requests\n",
    "from bs4 import BeautifulSoup"
   ]
  },
  {
   "cell_type": "code",
   "execution_count": 2,
   "metadata": {},
   "outputs": [],
   "source": [
    "# 资源来自全集网 http://www.dyxia.com/\n",
    "\n",
    "url=\"http://www.dyxia.com/Dongman/SS35851/\""
   ]
  },
  {
   "cell_type": "code",
   "execution_count": 3,
   "metadata": {},
   "outputs": [],
   "source": [
    "content = requests.get(url).content"
   ]
  },
  {
   "cell_type": "code",
   "execution_count": 4,
   "metadata": {},
   "outputs": [],
   "source": [
    "soup = BeautifulSoup(content,\"html.parser\")"
   ]
  },
  {
   "cell_type": "code",
   "execution_count": 8,
   "metadata": {},
   "outputs": [
    {
     "name": "stdout",
     "output_type": "stream",
     "text": [
      "<li id=\"li1_0\"><a href=\"thunder://QUFodHRwOi8vMTUuZGwueTgwcy5uZXQ6OTIwLzEyMTEvW+atu+elnl3nrKwx6ZuGL1vmrbvnpZ5d56ysMembhl9oZC5tcDRaWg==\" target=\"_self\" title=\"第1集\">第1集</a></li>\n"
     ]
    }
   ],
   "source": [
    "text = soup.find('ul',{'class':'downurl'}).find_all('li')\n",
    "print(text[0])"
   ]
  },
  {
   "cell_type": "code",
   "execution_count": 10,
   "metadata": {},
   "outputs": [
    {
     "name": "stdout",
     "output_type": "stream",
     "text": [
      "thunder://QUFodHRwOi8vMTUuZGwueTgwcy5uZXQ6OTIwLzEyMTEvW+atu+elnl3nrKwx6ZuGL1vmrbvnpZ5d56ysMembhl9oZC5tcDRaWg==\n"
     ]
    }
   ],
   "source": [
    "print(text[0].find('a').get('href'))"
   ]
  },
  {
   "cell_type": "code",
   "execution_count": 16,
   "metadata": {},
   "outputs": [
    {
     "name": "stdout",
     "output_type": "stream",
     "text": [
      "380\n"
     ]
    }
   ],
   "source": [
    "print(len(text))"
   ]
  },
  {
   "cell_type": "markdown",
   "metadata": {},
   "source": [
    "---\n",
    "\n",
    "- 以上为测试\n",
    "- 下面为方法"
   ]
  },
  {
   "cell_type": "code",
   "execution_count": 17,
   "metadata": {},
   "outputs": [],
   "source": [
    "# 获取迅雷下载链接\n",
    "\n",
    "def get_thunder_url(url):\n",
    "    content = requests.get(url).content\n",
    "    soup = BeautifulSoup(content,\"html.parser\")\n",
    "    \n",
    "    # 找到每一集 li 标签\n",
    "    text = soup.find('ul',{'class':'downurl'}).find_all('li')\n",
    "    \n",
    "    #获取下载链接 res为数组\n",
    "    res = []\n",
    "    \n",
    "    for i in range(len(text)):\n",
    "        try:\n",
    "            res.append(text[i].find('a').get('href'))\n",
    "        except Exception as e:\n",
    "            print(\"get_thunder_url {0} occurs error \\n {1}\".format(i,e))\n",
    "    \n",
    "    return res"
   ]
  },
  {
   "cell_type": "code",
   "execution_count": 20,
   "metadata": {},
   "outputs": [
    {
     "name": "stdout",
     "output_type": "stream",
     "text": [
      "获取链接完成\n"
     ]
    }
   ],
   "source": [
    "if __name__=='__main__':\n",
    "    res = get_thunder_url(url)\n",
    "    \n",
    "    with open('thunder','w') as f:\n",
    "        for i in res:\n",
    "            i = i+'\\n'\n",
    "            f.write(i)\n",
    "    \n",
    "    print(\"获取链接完成\")"
   ]
  }
 ],
 "metadata": {
  "kernelspec": {
   "display_name": "Python 3",
   "language": "python",
   "name": "python3"
  },
  "language_info": {
   "codemirror_mode": {
    "name": "ipython",
    "version": 3
   },
   "file_extension": ".py",
   "mimetype": "text/x-python",
   "name": "python",
   "nbconvert_exporter": "python",
   "pygments_lexer": "ipython3",
   "version": "3.6.4"
  }
 },
 "nbformat": 4,
 "nbformat_minor": 2
}